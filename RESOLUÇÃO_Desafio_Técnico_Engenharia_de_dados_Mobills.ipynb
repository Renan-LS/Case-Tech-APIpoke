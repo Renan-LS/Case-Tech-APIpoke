{
  "cells": [
    {
      "cell_type": "markdown",
      "metadata": {
        "id": "view-in-github",
        "colab_type": "text"
      },
      "source": [
        "<a href=\"https://colab.research.google.com/github/Renan-LS/Case-Tech-APIpoke/blob/main/RESOLU%C3%87%C3%83O_Desafio_T%C3%A9cnico_Engenharia_de_dados_Mobills.ipynb\" target=\"_parent\"><img src=\"https://colab.research.google.com/assets/colab-badge.svg\" alt=\"Open In Colab\"/></a>"
      ]
    },
    {
      "cell_type": "markdown",
      "id": "fc8b976e",
      "metadata": {
        "id": "fc8b976e"
      },
      "source": [
        "# Descrição\n",
        "\n",
        "<br>\n",
        "<p> Seu cliente quer começar a jogar Pokémon de forma otimizada e para isso quer criar suas próprias análises e gráficos sobre dados dos jogos. Como um bom hipster ele só considera Pokémon \"raíz\" as <b>três primeiras gerações</b>, e portanto, quer saber quais os Pokémons desse grupo podem ter os HMs (Hidden Machines) <b>Cut</b>, <b>Fly</b> e <b>Surf</b> ensinados para que dentre estes ele consiga escolher de acordo com os <b>Status</b>, a <b>Região</b> e o <b>Tipo Pokémon</b> para cada uma das estratégias dele.</p>\n",
        "\n",
        "<br>\n",
        "\n",
        "<p>Após um trabalho de discovery você encontrou a API <a href=\"https://pokeapi.co/\">PokéAPI</a>, nela estão todas as informações necessárias para a criação do dataset que seu cliente precisa, além da documentação. Agora basta usar seus conhecimentos <b>Python</b> e <b>PySpark</b> para extrair, transformar e salvar estes dados da forma que preferir apresentar para o cliente.</p>\n",
        "\n",
        "<br>\n",
        "\n",
        "<p> A tarefa será dada como concluída quando entregue o código com: solução de extração, transformação e salvamento de dados. Além do dataset e da documentação básica.</p>\n",
        "\n",
        "<br><br>\n",
        "<img src=\"data:image/jpeg;base64,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\">\n",
        "<br><br>\n",
        "<p><b> Observações:</b></p>\n",
        "<p> Os códigos e a documentação básica devem ser entregues neste caderno.</p>\n",
        "<p> A documentação básica pode ser simplesmente comentários ao longo do código e das tomadas de decisão, por exemplo: Escolhi  salvar <b>n</b> arquivos porque ... Extraí de tal forma pois...</p>\n",
        "<p> O dataset deve ser entregue em algum formato tabular normalizado de forma que seja possível ler por alguma ferramenta derivada do Apache Hive (athena, bigquery, etc) utilizando linguagem de sintaxe SQL (recomenda-se parquet)</p>\n",
        "<p>\n",
        "<br><br>"
      ]
    },
    {
      "cell_type": "markdown",
      "source": [
        "# Solução:\n",
        "O código apresentado é responsável por obter os dados dos Pokémon com habilidades HM (Hidden Machines) usando a biblioteca aiohttp e realizar operações assíncronas em Python.\n",
        "\n",
        "Ele segue os seguintes passos:\n",
        "\n",
        "1. Instalação das dependências: As bibliotecas pyspark e aiohttp são instaladas usando o comando pip install.\n",
        "\n",
        "2. Importação das bibliotecas: As bibliotecas necessárias, como SparkSession do pyspark, aiohttp e asyncio, são importadas.\n",
        "\n",
        "3. Definição de funções assíncronas: Duas funções assíncronas são definidas. A primeira função, get_pokemon_with_hms(), é responsável por obter os Pokémon com habilidades HM. Ela itera pelas gerações de Pokémon e faz requisições HTTP assíncronas para obter os dados dos Pokémon usando a API PokeAPI. A segunda função, get_pokemon_data(), é responsável por obter os dados de um Pokémon específico, como seu nome, status, região e tipo.\n",
        "\n",
        "4. Criação de uma sessão HTTP assíncrona: Uma sessão HTTP assíncrona é criada usando aiohttp.ClientSession(). Isso permite fazer requisições HTTP assíncronas de forma eficiente.\n",
        "\n",
        "5. Execução assíncrona das tarefas: As tarefas assíncronas são criadas e executadas em paralelo usando asyncio.gather(). Os dados de todos os Pokémon com habilidades HM são obtidos e armazenados em uma lista.\n",
        "\n",
        "6. Retorno dos dados dos Pokémon: A lista com os dados dos Pokémon é retornada pela função get_pokemon_with_hms().\n",
        "\n",
        "7. Execução do código assíncrono: O loop de eventos assíncrono é obtido usando asyncio.get_event_loop(). Uma tarefa é criada para chamar a função get_pokemon_with_hms(). O resultado é aguardado usando await e armazenado na variável pokemon_with_hms.\n",
        "\n",
        "As requisições HTTP assíncronas foram escolhidas devido ao tempo excessivo que estava sendo tomado por execuções síncronas."
      ],
      "metadata": {
        "id": "SNq6pLtoUUs4"
      },
      "id": "SNq6pLtoUUs4"
    },
    {
      "cell_type": "code",
      "execution_count": null,
      "id": "977eabd9",
      "metadata": {
        "id": "977eabd9"
      },
      "outputs": [],
      "source": [
        "!pip install pyspark\n",
        "!pip install aiohttp\n",
        "\n",
        "from pyspark.sql import SparkSession\n",
        "import aiohttp\n",
        "import asyncio\n",
        "\n",
        "# Função assíncrona para obter os Pokémon com habilidades HM\n",
        "async def get_pokemon_with_hms():\n",
        "    try:\n",
        "        # Dicionário que mapeia os movimentos HM aos seus IDs\n",
        "        hm_moves = {\n",
        "            'Cut': 15,\n",
        "            'Fly': 19,\n",
        "            'Surf': 3\n",
        "        }\n",
        "\n",
        "        # Dicionário que mapeia as gerações às suas regiões correspondentes\n",
        "        generation_to_region = {\n",
        "            1: 'Kanto',\n",
        "            2: 'Johto',\n",
        "            3: 'Hoenn',\n",
        "        }\n",
        "\n",
        "        # Lista para armazenar todos os Pokémon\n",
        "        all_pokemon = []\n",
        "\n",
        "        # Criação de uma sessão HTTP assíncrona\n",
        "        async with aiohttp.ClientSession() as session:\n",
        "            # Iteração pelas gerações de Pokémon (gerações 1, 2 e 3)\n",
        "            for generation in range(1, 4):\n",
        "                # Faz uma requisição para obter os dados da geração\n",
        "                response = await session.get(f'https://pokeapi.co/api/v2/generation/{generation}')\n",
        "                generation_data = await response.json()\n",
        "\n",
        "                tasks = []\n",
        "                # Iteração pelas espécies de Pokémon da geração atual\n",
        "                for pokemon_species in generation_data['pokemon_species']:\n",
        "                    # Obtém o ID e a URL da espécie do Pokémon\n",
        "                    pokemon_id = pokemon_species['url'].split('/')[-2]\n",
        "                    # Cria uma tarefa assíncrona para obter os dados do Pokémon\n",
        "                    tasks.append(get_pokemon_data(session, pokemon_id, pokemon_species['url'], generation, generation_to_region))\n",
        "\n",
        "                # Executa as tarefas assíncronas em paralelo e obtém os dados de todos os Pokémon da geração\n",
        "                pokemon_data = await asyncio.gather(*tasks)\n",
        "                # Adiciona os dados dos Pokémon à lista geral\n",
        "                all_pokemon.extend(pokemon_data)\n",
        "\n",
        "        # Retorna a lista com os dados de todos os Pokémon\n",
        "        return all_pokemon\n",
        "\n",
        "    except aiohttp.ClientError as e:\n",
        "        print('Error:', e)\n",
        "\n",
        "# Função assíncrona para obter os dados de um Pokémon específico\n",
        "async def get_pokemon_data(session, pokemon_id, species_url, generation, generation_to_region):\n",
        "    # Faz uma requisição para obter os dados do Pokémon\n",
        "    pokemon_response = await session.get(f'https://pokeapi.co/api/v2/pokemon/{pokemon_id}')\n",
        "    pokemon_data = await pokemon_response.json()\n",
        "\n",
        "    # Extrai os movimentos do Pokémon\n",
        "    pokemon_moves = [move['move']['name'] for move in pokemon_data['moves']]\n",
        "\n",
        "    # Faz uma requisição para obter os dados da espécie do Pokémon\n",
        "    species_response = await session.get(species_url)\n",
        "    species_data = await species_response.json()\n",
        "\n",
        "    # Obtém a região com base na geração\n",
        "    region = generation_to_region[generation]\n",
        "\n",
        "    # Cria um dicionário com os dados do Pokémon\n",
        "    hm_pokemon = {\n",
        "        'name': pokemon_data['name'],\n",
        "        'generation': generation,\n",
        "        'status': {\n",
        "            'hp': pokemon_data['stats'][0]['base_stat'],\n",
        "            'attack': pokemon_data['stats'][1]['base_stat'],\n",
        "            'defense': pokemon_data['stats'][2]['base_stat'],\n",
        "            'special_attack': pokemon_data['stats'][3]['base_stat'],\n",
        "            'special_defense': pokemon_data['stats'][4]['base_stat'],\n",
        "            'speed': pokemon_data['stats'][5]['base_stat'],\n",
        "        },\n",
        "        'region': region,\n",
        "        'type': [type['type']['name'] for type in pokemon_data['types']],\n",
        "        'can_learn_hm': {\n",
        "            'Cut': 'cut' in pokemon_moves,\n",
        "            'Fly': 'fly' in pokemon_moves,\n",
        "            'Surf': 'surf' in pokemon_moves\n",
        "        }\n",
        "    }\n",
        "\n",
        "    # Retorna os dados do Pokémon\n",
        "    return hm_pokemon\n",
        "\n",
        "# Obtém o loop de eventos assíncrono\n",
        "loop = asyncio.get_event_loop()\n",
        "# Cria uma tarefa para obter os Pokémon com habilidades HM\n",
        "task = loop.create_task(get_pokemon_with_hms())\n",
        "# Aguarda a conclusão da tarefa e obtém o resultado\n",
        "pokemon_with_hms = await task\n"
      ]
    },
    {
      "cell_type": "markdown",
      "source": [
        "Este código realiza o processamento e armazenamento de dados utilizando o Apache Spark, um framework de processamento distribuído.\n",
        "\n",
        "Vamos entender o que cada parte faz:\n",
        "\n",
        "Primeiramente, é criada uma sessão do Spark por meio do objeto SparkSession. Essa sessão é responsável por fornecer recursos de processamento paralelo e é a principal entrada para a programação com o Spark.\n",
        "\n",
        "Em seguida, é criado um DataFrame a partir dos dados contidos na variável pokemon_with_hms. O DataFrame é uma estrutura de dados tabular distribuída no Spark, que organiza os dados em colunas nomeadas. O método createDataFrame() é utilizado para criar esse DataFrame, facilitando o processamento e análise dos dados.\n",
        "\n",
        "Por fim, o DataFrame é salvo em um arquivo Parquet utilizando o método write.parquet(). O Parquet é um formato de armazenamento colunar eficiente para processamento distribuído amplamente utilizado no ecossistema do Spark. Essa etapa permite que os dados sejam armazenados de forma otimizada, garantindo uma eficiente leitura e processamento posterior.\n",
        "\n",
        "No geral, esse código é útil para processar e armazenar grandes volumes de dados de forma distribuída, aproveitando a capacidade de processamento paralelo do Spark. Ele automatiza a criação do ambiente do Spark, transforma os dados em um formato adequado para análise e os salva de forma eficiente em um arquivo Parquet. Isso possibilita realizar consultas, análises e extração de informações de maneira eficiente e escalável."
      ],
      "metadata": {
        "id": "Irqnsy_KYd4E"
      },
      "id": "Irqnsy_KYd4E"
    },
    {
      "cell_type": "code",
      "execution_count": null,
      "id": "45652e1c",
      "metadata": {
        "id": "45652e1c"
      },
      "outputs": [],
      "source": [
        "# Cria uma sessão do Spark\n",
        "spark = SparkSession.builder.getOrCreate()\n",
        "\n",
        "# Cria um DataFrame a partir dos dados em pokemon_with_hms\n",
        "df = spark.createDataFrame(pokemon_with_hms)\n",
        "\n",
        "# Salva o DataFrame em um arquivo Parquet\n",
        "df.write.parquet('pokemon_data.parquet')\n",
        "\n",
        "df.show()"
      ]
    },
    {
      "cell_type": "markdown",
      "source": [
        "O código que segue realiza a leitura de um arquivo Parquet previamente salvo no formato pokemon_data.parquet utilizando o Spark. Vamos entender cada parte:\n",
        "\n",
        "Primeiramente, o código utiliza o método read.parquet() do objeto spark para ler o arquivo Parquet. Esse método permite que o Spark carregue os dados do arquivo e os transforme em um DataFrame, mantendo a estrutura tabular e as colunas nomeadas.\n",
        "\n",
        "Em seguida, o DataFrame resultante da leitura é armazenado na variável df. O DataFrame contém os dados do arquivo Parquet e está pronto para ser utilizado em operações de processamento e análise de dados.\n",
        "\n",
        "Por fim, o código utiliza o método show() para exibir o conteúdo do DataFrame. Esse método imprime uma visualização dos dados na saída do programa, mostrando uma amostra das linhas do DataFrame de forma legível e formatada.\n"
      ],
      "metadata": {
        "id": "WXM9VbNibcuu"
      },
      "id": "WXM9VbNibcuu"
    },
    {
      "cell_type": "code",
      "execution_count": null,
      "id": "d377da80",
      "metadata": {
        "id": "d377da80"
      },
      "outputs": [],
      "source": [
        "# Realiza a leitura do arquivo Parquet\n",
        "df = spark.read.parquet('pokemon_data.parquet')\n",
        "\n",
        "# Exibe o conteúdo do DataFrame\n",
        "df.show()\n"
      ]
    },
    {
      "cell_type": "markdown",
      "source": [
        "# Conclusão:\n",
        "Neste projeto, foi desenvolvida uma solução para extrair, transformar e salvar os dados necessários para a análise dos Pokémon das três primeiras gerações que podem aprender os HMs (Hidden Machines) Cut, Fly e Surf, levando em consideração seus Status, Região e Tipo Pokémon.\n",
        "\n",
        "Para isso, foi utilizado Python em conjunto com a biblioteca PySpark, que permite processar grandes volumes de dados de forma distribuída e eficiente. A extração dos dados foi realizada utilizando a API PokéAPI, que contém informações completas sobre os Pokémon.\n",
        "\n",
        "O código desenvolvido foi dividido em etapas, que incluíram a extração dos dados da PokéAPI, a transformação dos dados para obter as informações desejadas, e o salvamento dos dados em um formato tabular normalizado para permitir consultas em linguagem de sintaxe SQL.\n",
        "\n",
        "Foram adotadas algumas decisões durante o projeto, como a escolha das três primeiras gerações de Pokémon como foco, de acordo com a preferência do cliente por Pokémon \"raíz\". Além disso, foi necessário identificar quais Pokémon poderiam aprender os HMs Cut, Fly e Surf, levando em consideração seus Status, Região e Tipo Pokémon. Essas informações foram estruturadas em um formato tabular normalizado, facilitando consultas futuras.\n",
        "\n",
        "O dataset resultante foi salvo no formato Parquet, que oferece compactação e compressão eficientes, além de suportar consultas em linguagem SQL por meio de ferramentas como Apache Hive, Athena e BigQuery.\n",
        "\n",
        "No geral, o projeto foi concluído com sucesso, entregando o código que realiza a extração, transformação e salvamento dos dados, bem como o dataset resultante e a documentação básica que descreve as etapas e decisões tomadas ao longo do processo. Essa solução permitirá ao cliente realizar análises e criar gráficos personalizados para otimizar sua experiência de jogo no universo Pokémon das três primeiras gerações."
      ],
      "metadata": {
        "id": "EzAvQm8ncuEg"
      },
      "id": "EzAvQm8ncuEg"
    }
  ],
  "metadata": {
    "kernelspec": {
      "display_name": "Python 3 (ipykernel)",
      "language": "python",
      "name": "python3"
    },
    "language_info": {
      "codemirror_mode": {
        "name": "ipython",
        "version": 3
      },
      "file_extension": ".py",
      "mimetype": "text/x-python",
      "name": "python",
      "nbconvert_exporter": "python",
      "pygments_lexer": "ipython3",
      "version": "3.9.5"
    },
    "toc": {
      "base_numbering": 1,
      "nav_menu": {},
      "number_sections": true,
      "sideBar": true,
      "skip_h1_title": false,
      "title_cell": "Table of Contents",
      "title_sidebar": "Contents",
      "toc_cell": false,
      "toc_position": {},
      "toc_section_display": true,
      "toc_window_display": false
    },
    "varInspector": {
      "cols": {
        "lenName": 16,
        "lenType": 16,
        "lenVar": 40
      },
      "kernels_config": {
        "python": {
          "delete_cmd_postfix": "",
          "delete_cmd_prefix": "del ",
          "library": "var_list.py",
          "varRefreshCmd": "print(var_dic_list())"
        },
        "r": {
          "delete_cmd_postfix": ") ",
          "delete_cmd_prefix": "rm(",
          "library": "var_list.r",
          "varRefreshCmd": "cat(var_dic_list()) "
        }
      },
      "types_to_exclude": [
        "module",
        "function",
        "builtin_function_or_method",
        "instance",
        "_Feature"
      ],
      "window_display": false
    },
    "colab": {
      "provenance": [],
      "include_colab_link": true
    }
  },
  "nbformat": 4,
  "nbformat_minor": 5
}